{
 "cells": [
  {
   "cell_type": "code",
   "execution_count": null,
   "id": "ccad9f3b-0909-4fb0-9114-17963ce12307",
   "metadata": {},
   "outputs": [],
   "source": [
    "# Dependencies and Setup\n",
    "\n",
    "# File to Load (Remember to Change These)\n",
    "\n",
    "# Read School and Student Data File and store into Pandas DataFrames\n",
    "\n",
    "# Combine the data into a single dataset."
   ]
  }
 ],
 "metadata": {
  "kernelspec": {
   "display_name": "Python 3 (ipykernel)",
   "language": "python",
   "name": "python3"
  },
  "language_info": {
   "codemirror_mode": {
    "name": "ipython",
    "version": 3
   },
   "file_extension": ".py",
   "mimetype": "text/x-python",
   "name": "python",
   "nbconvert_exporter": "python",
   "pygments_lexer": "ipython3",
   "version": "3.12.4"
  }
 },
 "nbformat": 4,
 "nbformat_minor": 5
}

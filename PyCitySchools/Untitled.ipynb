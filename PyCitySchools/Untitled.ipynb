{
 "cells": [
  {
   "cell_type": "code",
   "execution_count": null,
   "id": "6af90448-2670-4987-807d-623dddb3fc6e",
   "metadata": {},
   "outputs": [],
   "source": [
    "import pandas as pd\n",
    "from pathlib import Path\n",
    "school_data_to_load = Path(\"Resources/schools_complete.csv\")\n",
    "student_data_to_load = Path(\"Resources/students_complete.csv\")\n",
    "school_data = pd.read_csv(school_data_to_load)\n",
    "student_data = pd.read_csv(student_data_to_load)\n",
    "school_data_complete = pd.merge(student_data, school_data, how=\"left\", on=\"school_name\")\n",
    "school_data_complete.head()\n",
    "school_count = school_data_complete['school_name'].nunique()\n",
    "print(school_count)\n",
    "student_count = len(school_data_complete)\n",
    "print(student_count)\n",
    "total_budget = school_data['budget'].sum()\n",
    "print(total_budget)\n",
    "average_math_score = school_data_complete['math_score'].mean()\n",
    "print(average_math_score)\n",
    "average_reading_score = school_data_complete['reading_score'].mean()\n",
    "average_reading_score\n",
    "passing_math_count = school_data_complete[(school_data_complete[\"math_score\"] >= 70)].count()[\"student_name\"]\n",
    "passing_math_percentage = passing_math_count / float(student_count) * 100\n",
    "passing_math_percentage\n",
    "passing_reading_count = school_data_complete[(school_data_complete[\"reading_score\"] >= 70)].count()[\"student_name\"]\n",
    "passing_reading_percentage = passing_reading_count / float(student_count) * 100\n",
    "passing_reading_percentage\n",
    "passing_math_reading_count = school_data_complete[\n",
    "    (school_data_complete[\"math_score\"] >= 70) & (school_data_complete[\"reading_score\"] >= 70)\n",
    "].count()[\"student_name\"]\n",
    "overall_passing_rate = passing_math_reading_count /  float(student_count) * 100\n",
    "overall_passing_rate\n",
    "school_types = school_data.set_index([\"school_name\"])[\"type\"]\n",
    "per_school_counts = school_data_complete.groupby(\"school_name\")[\"student_name\"].count()\n",
    "per_school_counts\n",
    "per_school_budget = school_data_complete.groupby(\"school_name\")[\"budget\"].first()\n",
    "per_school_capita = per_school_budget / per_school_counts\n",
    "per_school_budget\n",
    "per_school_math = school_data_complete.groupby(\"school_name\")[\"average_math_score\"].first()\n",
    "per_school_reading = school_data_complete.groupby(\"school_name\")[\"average_reading_score\"].first()\n",
    "per_school_math"
   ]
  }
 ],
 "metadata": {
  "kernelspec": {
   "display_name": "Python 3 (ipykernel)",
   "language": "python",
   "name": "python3"
  },
  "language_info": {
   "codemirror_mode": {
    "name": "ipython",
    "version": 3
   },
   "file_extension": ".py",
   "mimetype": "text/x-python",
   "name": "python",
   "nbconvert_exporter": "python",
   "pygments_lexer": "ipython3",
   "version": "3.12.4"
  }
 },
 "nbformat": 4,
 "nbformat_minor": 5
}
